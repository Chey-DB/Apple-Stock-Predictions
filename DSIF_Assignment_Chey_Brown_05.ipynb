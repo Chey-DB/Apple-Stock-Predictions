{
 "cells": [
  {
   "cell_type": "markdown",
   "id": "aa5a7d5a-617f-4a24-9e0e-64bee2b681f9",
   "metadata": {},
   "source": [
    "## Import Libraries"
   ]
  },
  {
   "cell_type": "code",
   "execution_count": null,
   "id": "e5b0ae9b-876b-4f44-8eda-57625dfbe029",
   "metadata": {},
   "outputs": [],
   "source": [
    "import matplotlib.pyplot as plt\n",
    "import sys\n",
    "\n",
    "import pandas as pd\n",
    "import pandas_ta as ta\n",
    "import numpy as np\n",
    "import matplotlib.pyplot as plt\n",
    "import seaborn as sns\n",
    "import yfinance as yf\n",
    "\n",
    "from sklearn.preprocessing import MinMaxScaler\n",
    "\n",
    "pd.set_option('display.max_columns', None)\n",
    "pd.set_option('display.max_rows', None)"
   ]
  },
  {
   "cell_type": "code",
   "execution_count": null,
   "id": "d75dbb23-b330-4ab2-826c-7fea39b9a761",
   "metadata": {},
   "outputs": [],
   "source": [
    "chosen_stock = 'AAPL'\n",
    "\n",
    "# Use yfinance to download the stock stock_data\n",
    "stock_data = yf.download(chosen_stock, start='2015-01-01', end='2024-10-01', interval='1d')\n",
    "\n",
    "# Display the first few rows of the stock_data\n",
    "stock_data.tail()"
   ]
  },
  {
   "cell_type": "code",
   "execution_count": null,
   "id": "46de1e54-5026-4f55-8c56-1d52bbecfe0c",
   "metadata": {},
   "outputs": [],
   "source": [
    "# Ensure the index is a DatetimeIndex\n",
    "stock_data.index = pd.to_datetime(stock_data.index)\n"
   ]
  },
  {
   "cell_type": "code",
   "execution_count": null,
   "id": "df52fbe5-a699-436e-9791-18eb2c524385",
   "metadata": {},
   "outputs": [],
   "source": [
    "# Set the frequency of the time series to 'B' (business day)\n",
    "stock_data = stock_data.asfreq('B')"
   ]
  },
  {
   "cell_type": "code",
   "execution_count": null,
   "id": "4088682d-5ba5-466a-9100-7a1355115e9b",
   "metadata": {},
   "outputs": [],
   "source": [
    "missing_values = stock_data['Adj Close'].isna().sum()\n",
    "print(f\"Null values: {missing_values} \\n \\n\")"
   ]
  },
  {
   "cell_type": "code",
   "execution_count": null,
   "id": "c936cb87-e6c0-436e-8839-15e9b390b196",
   "metadata": {},
   "outputs": [],
   "source": [
    "## Forward fill to handle missing stock_data points (optional, depending on the stock_data)\n",
    "stock_data['Adj Close'].ffill(inplace= True)\n",
    "\n",
    "\n",
    "missing_values = stock_data['Adj Close'].isna().sum()\n",
    "print(f\"Null values: {missing_values} \\n \\n\")\n"
   ]
  },
  {
   "cell_type": "code",
   "execution_count": null,
   "id": "6872428a-c611-487a-90a0-775b00a185c4",
   "metadata": {},
   "outputs": [],
   "source": [
    "len(stock_data)"
   ]
  },
  {
   "cell_type": "code",
   "execution_count": null,
   "id": "6ceb20cb-a9f3-4c64-87f9-7187a7dc8d69",
   "metadata": {},
   "outputs": [],
   "source": [
    "# Adding indicators\n",
    "stock_data['RSI']=ta.rsi(stock_data.Close, length=15)\n",
    "stock_data['EMAF']=ta.ema(stock_data.Close, length=20)\n",
    "stock_data['EMAM']=ta.ema(stock_data.Close, length=100)\n",
    "stock_data['EMAS']=ta.ema(stock_data.Close, length=150)\n",
    "\n",
    "# stock_data['Target'] = stock_data['Adj Close']-stock_data.Open\n",
    "# stock_data['Target'] = stock_data['Target'].shift(-1)\n",
    "\n",
    "# stock_data['TargetClass'] = [1 if stock_data.Target[i]>0 else 0 for i in range(len(stock_data))]\n",
    "\n",
    "stock_data['TargetNextClose'] = stock_data['Adj Close'].shift(-1)\n",
    "\n",
    "stock_data.dropna(inplace=True)\n",
    "stock_data.reset_index(inplace = True)\n",
    "stock_data.drop(['Volume', 'Close', 'Date'], axis=1, inplace=True)"
   ]
  },
  {
   "cell_type": "code",
   "execution_count": null,
   "id": "ecfefd7e-1637-48c7-ba3c-21054287fd49",
   "metadata": {},
   "outputs": [],
   "source": [
    "len(stock_data)"
   ]
  },
  {
   "cell_type": "code",
   "execution_count": null,
   "id": "1c9225a0-c185-45a2-9f6f-6bffd0abb4a7",
   "metadata": {},
   "outputs": [],
   "source": [
    "stock_data.shape"
   ]
  },
  {
   "cell_type": "code",
   "execution_count": null,
   "id": "9a71f2f5-5721-4028-b18e-dee826512ba3",
   "metadata": {},
   "outputs": [],
   "source": [
    "stock_data.head()"
   ]
  },
  {
   "cell_type": "code",
   "execution_count": null,
   "id": "679b54d3-27fc-4be8-a696-d1f19577bd9e",
   "metadata": {},
   "outputs": [],
   "source": [
    "scaler = MinMaxScaler(feature_range=(0,1))\n",
    "stock_data_scaled= scaler.fit_transform(stock_data)\n",
    "print(stock_data_scaled)"
   ]
  },
  {
   "cell_type": "code",
   "execution_count": null,
   "id": "43536e21-e696-423d-b7a7-eeb808499c18",
   "metadata": {
    "scrolled": true
   },
   "outputs": [],
   "source": [
    "# multiple feature from data provided to the model\n",
    "X = []\n",
    "#print(data_set_scaled[0].size)\n",
    "#data_set_scaled=data_set.values\n",
    "backcandles = 30\n",
    "print(stock_data_scaled.shape[0])\n",
    "for j in range(8):#data_set_scaled[0].size):#2 columns are target not X\n",
    "    X.append([])\n",
    "    for i in range(backcandles, stock_data_scaled.shape[0]):#backcandles+2\n",
    "        X[j].append(stock_data_scaled[i-backcandles:i, j])\n",
    "\n",
    "#move axis from 0 to position 2\n",
    "X=np.moveaxis(X, [0], [2])\n",
    "\n",
    "#Erase first elements of y because of backcandles to match X length\n",
    "#del(yi[0:backcandles])\n",
    "#X, yi = np.array(X), np.array(yi)\n",
    "# Choose -1 for last column, classification else -2...\n",
    "X, yi =np.array(X), np.array(stock_data_scaled[backcandles:,-1])\n",
    "y=np.reshape(yi,(len(yi),1))\n",
    "#y=sc.fit_transform(yi)\n",
    "#X_train = np.reshape(X_train, (X_train.shape[0], X_train.shape[1], 1))\n",
    "print(X)\n",
    "print(X.shape)\n",
    "print(y)\n",
    "print(y.shape)"
   ]
  },
  {
   "cell_type": "code",
   "execution_count": null,
   "id": "7445f72c-6035-494d-a980-c33a872b32b2",
   "metadata": {},
   "outputs": [],
   "source": [
    "df_scaled = pd.DataFrame(stock_data_scaled, columns=stock_data.columns)\n",
    "df_scaled.head()"
   ]
  },
  {
   "cell_type": "code",
   "execution_count": null,
   "id": "fdae1192-4925-417d-b78a-c31efd127e5c",
   "metadata": {},
   "outputs": [],
   "source": [
    "# split data into train test sets\n",
    "splitlimit = int(len(X)*0.8)\n",
    "print(splitlimit)\n",
    "X_train, X_test = X[:splitlimit], X[splitlimit:]\n",
    "y_train, y_test = y[:splitlimit], y[splitlimit:]\n",
    "print(X_train.shape)\n",
    "print(X_test.shape)\n",
    "print(y_train.shape)\n",
    "print(y_test.shape)\n",
    "print(y_train)"
   ]
  },
  {
   "cell_type": "code",
   "execution_count": null,
   "id": "e536652c-5838-4561-b7e4-19d94fed63f7",
   "metadata": {},
   "outputs": [],
   "source": [
    "!nvidia-smi"
   ]
  },
  {
   "cell_type": "code",
   "execution_count": null,
   "id": "30907c95-3b22-4373-93e0-1c7777d42102",
   "metadata": {},
   "outputs": [],
   "source": [
    "import tensorflow as tf\n",
    "import keras\n",
    "\n",
    "from keras.models import Sequential, Model\n",
    "from keras.layers import LSTM, Dropout, Dense, Activation, Input\n",
    "from keras import optimizers"
   ]
  },
  {
   "cell_type": "code",
   "execution_count": null,
   "id": "52cb11a2-2b43-4fb7-a290-baf4f6cf3f59",
   "metadata": {},
   "outputs": [],
   "source": [
    "lstm_input = Input(shape=(backcandles, 8), name='lstm_input')\n",
    "inputs = LSTM(150, name='first_layer')(lstm_input)\n",
    "inputs = Dense(1, name='dense_layer')(inputs)\n",
    "output = Activation('linear', name='output')(inputs)\n",
    "model = Model(inputs=lstm_input, outputs=output)\n",
    "adam = optimizers.Adam()\n",
    "model.compile(optimizer=adam, loss='mse', metrics=[\"mse\", \"mae\", keras.metrics.RootMeanSquaredError()])\n",
    "history = model.fit(x=X_train, y=y_train, batch_size=15, epochs=30, shuffle=True, validation_split = 0.1)"
   ]
  },
  {
   "cell_type": "code",
   "execution_count": null,
   "id": "a7a95941-f985-46a8-9a0a-37b55cb84f5d",
   "metadata": {},
   "outputs": [],
   "source": [
    "y_pred = model.predict(X_test)\n",
    "#y_pred=np.where(y_pred > 0.43, 1,0)\n",
    "for i in range(10):\n",
    "    print(y_pred[i], y_test[i])"
   ]
  },
  {
   "cell_type": "code",
   "execution_count": null,
   "id": "29dc780d-8569-4c51-9b71-46940d42e529",
   "metadata": {},
   "outputs": [],
   "source": [
    "plt.figure(figsize=(16,8))\n",
    "plt.plot(y_test, color = 'black', label = 'Test')\n",
    "plt.plot(y_pred, color = 'green', label = 'pred')\n",
    "plt.legend()\n",
    "plt.show()"
   ]
  }
 ],
 "metadata": {
  "kernelspec": {
   "display_name": "dsif-test",
   "language": "python",
   "name": "dsif-test"
  },
  "language_info": {
   "codemirror_mode": {
    "name": "ipython",
    "version": 3
   },
   "file_extension": ".py",
   "mimetype": "text/x-python",
   "name": "python",
   "nbconvert_exporter": "python",
   "pygments_lexer": "ipython3",
   "version": "3.12.7"
  }
 },
 "nbformat": 4,
 "nbformat_minor": 5
}
